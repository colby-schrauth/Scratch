{
 "cells": [
  {
   "cell_type": "markdown",
   "metadata": {},
   "source": [
    "# Bootstrapping from Scratch w/ Python\n",
    "\n",
    "Alright, it's not totally from scratch! For example, I'm using the numpy library to execute median calculations. Either way, this exercise was done to better understand what actually happens, 'behind-the-scenes', in executing the doBootstrap library in R (http://web.stanford.edu/class/psych252/tutorials/doBootstrapReadme.html).\n",
    "\n",
    "Examples below align to those in the link provided above. Please keep in mind that results will slightly differ due to random selections."
   ]
  },
  {
   "cell_type": "markdown",
   "metadata": {},
   "source": [
    "**Bootstrapping the Mean**\n",
    "** **"
   ]
  },
  {
   "cell_type": "code",
   "execution_count": 1,
   "metadata": {
    "collapsed": true
   },
   "outputs": [],
   "source": [
    "# Import necessary libraries\n",
    "from __future__ import division\n",
    "import numpy as np\n",
    "\n",
    "# import matplotlib.pyplot as plt\n",
    "# import matplotlib.mlab as mlab\n",
    "\n",
    "# %matplotlib inline"
   ]
  },
  {
   "cell_type": "code",
   "execution_count": 2,
   "metadata": {
    "collapsed": false
   },
   "outputs": [],
   "source": [
    "# Load the mtcars.mpg R dataset, manually, to a numpy array\n",
    "\n",
    "mtcars_mpg = np.array([21. ,  21. ,  22.8,  21.4,  18.7,  18.1,  14.3,  24.4,  22.8,\n",
    "                       19.2,  17.8,  16.4,  17.3,  15.2,  10.4,  10.4,  14.7,  32.4,\n",
    "                       30.4,  33.9,  21.5,  15.5,  15.2,  13.3,  19.2,  27.3,  26. ,\n",
    "                       30.4,  15.8,  19.7,  15. ,  21.4])"
   ]
  },
  {
   "cell_type": "code",
   "execution_count": 3,
   "metadata": {
    "collapsed": false
   },
   "outputs": [],
   "source": [
    "# For each bootstrapped sample, how many data points are we going to select\n",
    "# Also known as 'Number of Observations'\n",
    "# This is equivalent to the size of our original sample, and in this case, the mtcars_mpg dataset\n",
    "\n",
    "num_obs = len(mtcars_mpg) # 32"
   ]
  },
  {
   "cell_type": "code",
   "execution_count": 2,
   "metadata": {
    "collapsed": true
   },
   "outputs": [],
   "source": [
    "# Number of iterations for bootstrapping\n",
    "# How many times should we randomly select with replacement,\n",
    "# [num_obs = 32] data points from the mtcars_mpg dataset\n",
    "\n",
    "num_its = 5000"
   ]
  },
  {
   "cell_type": "code",
   "execution_count": 5,
   "metadata": {
    "collapsed": true
   },
   "outputs": [],
   "source": [
    "# Run bootstrap operation and store results in the variable 'bootstrap_results'\n",
    "# Randomly select [num_obs = 32] data points from the mtcars_mpg dataset, 5000 times\n",
    "\n",
    "bootstrap_results = np.random.choice(mtcars_mpg, (num_obs, num_its))"
   ]
  },
  {
   "cell_type": "code",
   "execution_count": 6,
   "metadata": {
    "collapsed": true
   },
   "outputs": [],
   "source": [
    "# Creat an empty list to store the average of each iteration\n",
    "\n",
    "mean_list = []\n",
    "\n",
    "# Loop through each iteration (5K columns w/ 32 data points in each),\n",
    "# calculate the mean and append it to 'mean_list'\n",
    "\n",
    "for i in range(num_its):\n",
    "    mean_list.append(np.mean([item[i] for item in bootstrap_results]))"
   ]
  },
  {
   "cell_type": "code",
   "execution_count": 7,
   "metadata": {
    "collapsed": false
   },
   "outputs": [],
   "source": [
    "# Convert 'mean_list' to a numpy array\n",
    "\n",
    "mean_list = np.asarray(mean_list)"
   ]
  },
  {
   "cell_type": "code",
   "execution_count": 8,
   "metadata": {
    "collapsed": false
   },
   "outputs": [],
   "source": [
    "# Sort the list as an extra precaution to calculate the median\n",
    "\n",
    "mean_list.sort()"
   ]
  },
  {
   "cell_type": "code",
   "execution_count": 9,
   "metadata": {
    "collapsed": false
   },
   "outputs": [],
   "source": [
    "# Grab the median from our newly sorted list\n",
    "\n",
    "bootstrapped_median = np.median(mean_list)"
   ]
  },
  {
   "cell_type": "code",
   "execution_count": 10,
   "metadata": {
    "collapsed": false
   },
   "outputs": [],
   "source": [
    "# Grab the 2.5th and 97.5th percentile (95% CI) of our sorted list\n",
    "\n",
    "bootstrapped_CI = np.percentile(mean_list, [2.5, 97.5])"
   ]
  },
  {
   "cell_type": "code",
   "execution_count": 11,
   "metadata": {
    "collapsed": false
   },
   "outputs": [
    {
     "name": "stdout",
     "output_type": "stream",
     "text": [
      "Median estimate, from 5000 iterations: 20.034375\n",
      "95% CI estimate, from 5000 iterations: 18.093750 to 22.181328\n"
     ]
    }
   ],
   "source": [
    "# Print results\n",
    "# Contrast results against those provided in the doBootstrap documentation\n",
    "\n",
    "print \"Median estimate, from %d iterations: %f\" % (num_its, bootstrapped_median)\n",
    "print \"95%% CI estimate, from %d iterations: %f to %f\" % (num_its, bootstrapped_CI[0], bootstrapped_CI[1])"
   ]
  },
  {
   "cell_type": "markdown",
   "metadata": {},
   "source": [
    "** **\n",
    "**Bootstrap a Difference Between Means, Unpaired**\n",
    "** **"
   ]
  },
  {
   "cell_type": "code",
   "execution_count": 12,
   "metadata": {
    "collapsed": true
   },
   "outputs": [],
   "source": [
    "# Import libraries – not necesasry if you've already executed\n",
    "from __future__ import division\n",
    "import numpy as np\n",
    "\n",
    "# import matplotlib.pyplot as plt\n",
    "# import matplotlib.mlab as mlab\n",
    "\n",
    "# %matplotlib inline"
   ]
  },
  {
   "cell_type": "code",
   "execution_count": 13,
   "metadata": {
    "collapsed": true
   },
   "outputs": [],
   "source": [
    "# Load the displacment data from the mtcars dataset, manually, to a numpy array\n",
    "\n",
    "mtcars_disp = np.array([160. ,  160. ,  108. ,  258. ,  360. ,  225. ,  360. ,  146.7,\n",
    "                        140.8,  167.6,  167.6,  275.8,  275.8,  275.8,  472. ,  460. ,\n",
    "                        440. ,   78.7,   75.7,   71.1,  120.1,  318. ,  304. ,  350. ,\n",
    "                        400. ,   79. ,  120.3,   95.1,  351. ,  145. ,  301. ,  121. ])"
   ]
  },
  {
   "cell_type": "code",
   "execution_count": 14,
   "metadata": {
    "collapsed": true
   },
   "outputs": [],
   "source": [
    "# Load the horsepower data from the mtcars dataset, manually, to a numpy array\n",
    "\n",
    "mtcars_hp = np.array([110, 110,  93, 110, 175, 105, 245,  62,  95, 123, 123, 180, 180,\n",
    "                      180, 205, 215, 230,  66,  52,  65,  97, 150, 150, 245, 175,  66,\n",
    "                      91, 113, 264, 175, 335, 109])"
   ]
  },
  {
   "cell_type": "code",
   "execution_count": 15,
   "metadata": {
    "collapsed": true
   },
   "outputs": [],
   "source": [
    "# Number of observations - Size of the mtcars_disp array\n",
    "\n",
    "num_obs_a = len(mtcars_disp)"
   ]
  },
  {
   "cell_type": "code",
   "execution_count": 16,
   "metadata": {
    "collapsed": true
   },
   "outputs": [],
   "source": [
    "# Number of observations - Size of the mtcars_hp array\n",
    "\n",
    "num_obs_b = len(mtcars_hp)"
   ]
  },
  {
   "cell_type": "code",
   "execution_count": 17,
   "metadata": {
    "collapsed": false
   },
   "outputs": [
    {
     "data": {
      "text/plain": [
       "True"
      ]
     },
     "execution_count": 17,
     "metadata": {},
     "output_type": "execute_result"
    }
   ],
   "source": [
    "# Are the number of observations equal, for 'zip' purposes\n",
    "# At this moment, there is no logic built for a 'False' return\n",
    "\n",
    "num_obs_a == num_obs_b"
   ]
  },
  {
   "cell_type": "code",
   "execution_count": 18,
   "metadata": {
    "collapsed": true
   },
   "outputs": [],
   "source": [
    "# Number of iterations - How many times should we randomly select,\n",
    "# with replacement, [num_obs_a] and [num_obs_b] data points from each dataset\n",
    "\n",
    "num_its = 5000"
   ]
  },
  {
   "cell_type": "code",
   "execution_count": 19,
   "metadata": {
    "collapsed": false
   },
   "outputs": [],
   "source": [
    "# Run our bootstrap operation for the displacement dataset\n",
    "# Store results in variable 'bootstrap_results_a'\n",
    "\n",
    "bootstrap_results_a = np.random.choice(mtcars_disp, (num_obs_a, num_its))\n",
    "\n",
    "# Run our bootstrap operation for the horsepower dataset\n",
    "# Store results in variable 'bootstrap_results_b'\n",
    "\n",
    "bootstrap_results_b = np.random.choice(mtcars_hp, (num_obs_b, num_its))"
   ]
  },
  {
   "cell_type": "code",
   "execution_count": 20,
   "metadata": {
    "collapsed": false
   },
   "outputs": [],
   "source": [
    "# Creat an empty list to store the average of each iteration\n",
    "\n",
    "mean_list_a = []\n",
    "mean_list_b = []\n",
    "\n",
    "# Loop through each iteration, calculate the mean and append it to 'mean_list_a'\n",
    "\n",
    "for i in range(num_its):\n",
    "    mean_list_a.append(np.mean([item[i] for item in bootstrap_results_a]))\n",
    "\n",
    "# Loop through each iteration, calculate the mean and append it to 'mean_list_b'\n",
    "\n",
    "for x in range(num_its):\n",
    "    mean_list_b.append(np.mean([item[x] for item in bootstrap_results_b]))"
   ]
  },
  {
   "cell_type": "code",
   "execution_count": 21,
   "metadata": {
    "collapsed": true
   },
   "outputs": [],
   "source": [
    "# Identify the difference between each random, independent sample mean\n",
    "\n",
    "mean_difference = [x - y for x, y in zip(mean_list_a, mean_list_b)]"
   ]
  },
  {
   "cell_type": "code",
   "execution_count": 22,
   "metadata": {
    "collapsed": false
   },
   "outputs": [],
   "source": [
    "# Absolue those differences\n",
    "\n",
    "mean_difference = np.absolute(mean_difference)"
   ]
  },
  {
   "cell_type": "code",
   "execution_count": 23,
   "metadata": {
    "collapsed": true
   },
   "outputs": [],
   "source": [
    "# Sort\n",
    "\n",
    "mean_difference.sort()"
   ]
  },
  {
   "cell_type": "code",
   "execution_count": 24,
   "metadata": {
    "collapsed": true
   },
   "outputs": [],
   "source": [
    "# Grab the median\n",
    "\n",
    "bootstrapped_median = np.median(mean_difference)"
   ]
  },
  {
   "cell_type": "code",
   "execution_count": 25,
   "metadata": {
    "collapsed": true
   },
   "outputs": [],
   "source": [
    "# Grab the 2.5th and 97.5th percentile (95% CI)\n",
    "\n",
    "bootstrapped_CI = np.percentile(mean_difference, [2.5, 97.5])"
   ]
  },
  {
   "cell_type": "code",
   "execution_count": 26,
   "metadata": {
    "collapsed": false
   },
   "outputs": [
    {
     "name": "stdout",
     "output_type": "stream",
     "text": [
      "Median estimate, from 5000 iterations: 84.465625\n",
      "95% CI estimate, from 5000 iterations: 34.666641 to 132.647813\n"
     ]
    }
   ],
   "source": [
    "# Print results\n",
    "# Contrast results against those provided in the doBootstrap documentation\n",
    "\n",
    "print \"Median estimate, from %d iterations: %f\" % (num_its, bootstrapped_median)\n",
    "print \"95%% CI estimate, from %d iterations: %f to %f\" % (num_its, bootstrapped_CI[0], bootstrapped_CI[1])"
   ]
  },
  {
   "cell_type": "markdown",
   "metadata": {},
   "source": [
    "** **\n",
    "**Bootstrapping a Difference Between Means, Paired**\n",
    "** **"
   ]
  },
  {
   "cell_type": "code",
   "execution_count": 27,
   "metadata": {
    "collapsed": true
   },
   "outputs": [],
   "source": [
    "# Import libraries – not necesasry if you've already executed\n",
    "from __future__ import division\n",
    "import numpy as np\n",
    "\n",
    "\n",
    "# import matplotlib.pyplot as plt\n",
    "# import matplotlib.mlab as mlab\n",
    "\n",
    "# %matplotlib inline"
   ]
  },
  {
   "cell_type": "code",
   "execution_count": 28,
   "metadata": {
    "collapsed": true
   },
   "outputs": [],
   "source": [
    "# Load the displacment data from the mtcars dataset\n",
    "\n",
    "mtcars_disp = np.array([160. ,  160. ,  108. ,  258. ,  360. ,  225. ,  360. ,  146.7,\n",
    "                        140.8,  167.6,  167.6,  275.8,  275.8,  275.8,  472. ,  460. ,\n",
    "                        440. ,   78.7,   75.7,   71.1,  120.1,  318. ,  304. ,  350. ,\n",
    "                        400. ,   79. ,  120.3,   95.1,  351. ,  145. ,  301. ,  121. ])"
   ]
  },
  {
   "cell_type": "code",
   "execution_count": 29,
   "metadata": {
    "collapsed": true
   },
   "outputs": [],
   "source": [
    "# Load the horsepower data from the mtcars dataset\n",
    "\n",
    "mtcars_hp = np.array([110, 110,  93, 110, 175, 105, 245,  62,  95, 123, 123, 180, 180,\n",
    "                      180, 205, 215, 230,  66,  52,  65,  97, 150, 150, 245, 175,  66,\n",
    "                      91, 113, 264, 175, 335, 109])"
   ]
  },
  {
   "cell_type": "code",
   "execution_count": 30,
   "metadata": {
    "collapsed": true
   },
   "outputs": [],
   "source": [
    "# Number of observations - Size of the mtcars_mpg array\n",
    "\n",
    "num_obs_a = len(mtcars_disp)"
   ]
  },
  {
   "cell_type": "code",
   "execution_count": 31,
   "metadata": {
    "collapsed": true
   },
   "outputs": [],
   "source": [
    "# Number of observations - Size of the mtcars_hp array\n",
    "\n",
    "num_obs_b = len(mtcars_hp)"
   ]
  },
  {
   "cell_type": "code",
   "execution_count": 32,
   "metadata": {
    "collapsed": false
   },
   "outputs": [
    {
     "data": {
      "text/plain": [
       "True"
      ]
     },
     "execution_count": 32,
     "metadata": {},
     "output_type": "execute_result"
    }
   ],
   "source": [
    "# Are the number of observations equal, for 'zip' purposes\n",
    "# At this moment, there is no logic built for a 'False' return\n",
    "\n",
    "num_obs_a == num_obs_b"
   ]
  },
  {
   "cell_type": "code",
   "execution_count": 33,
   "metadata": {
    "collapsed": true
   },
   "outputs": [],
   "source": [
    "# Number of iterations - How many times should we randomly select,\n",
    "# with replacement, 'num_obs' data points from the mtcars_mpg dataset\n",
    "\n",
    "num_its = 5000"
   ]
  },
  {
   "cell_type": "code",
   "execution_count": 34,
   "metadata": {
    "collapsed": true
   },
   "outputs": [],
   "source": [
    "# Identify the raw difference between each pair (horsepower vs. displacement for each automobile)\n",
    "# This is where 'Paired' bootstrapping begins to differ from 'Unpaired'\n",
    "# Use the raw difference between each pair as our dataset for bootstrapping\n",
    "\n",
    "paired_difference = [x - y for x, y in zip(mtcars_disp, mtcars_hp)]"
   ]
  },
  {
   "cell_type": "code",
   "execution_count": 35,
   "metadata": {
    "collapsed": true
   },
   "outputs": [],
   "source": [
    "# Run bootstrap operation and store results in variable 'bootstrap_results_a'\n",
    "\n",
    "bootstrap_results_a = np.random.choice(paired_difference, (num_obs_a, num_its))"
   ]
  },
  {
   "cell_type": "code",
   "execution_count": 36,
   "metadata": {
    "collapsed": true
   },
   "outputs": [],
   "source": [
    "# Creat an empty list to store the average of each iteration\n",
    "\n",
    "mean_list_a = []\n",
    "\n",
    "# Loop through each iteration and append it to 'mean_list_a'\n",
    "\n",
    "for i in range(num_its):\n",
    "    mean_list_a.append(np.mean([item[i] for item in bootstrap_results_a]))"
   ]
  },
  {
   "cell_type": "code",
   "execution_count": 37,
   "metadata": {
    "collapsed": true
   },
   "outputs": [],
   "source": [
    "# Absolute those differences\n",
    "\n",
    "mean_difference = np.absolute(mean_list_a)"
   ]
  },
  {
   "cell_type": "code",
   "execution_count": 38,
   "metadata": {
    "collapsed": true
   },
   "outputs": [],
   "source": [
    "# Sort\n",
    "\n",
    "mean_difference.sort()"
   ]
  },
  {
   "cell_type": "code",
   "execution_count": 39,
   "metadata": {
    "collapsed": true
   },
   "outputs": [],
   "source": [
    "# Grab the median\n",
    "\n",
    "bootstrapped_median = np.median(mean_difference)"
   ]
  },
  {
   "cell_type": "code",
   "execution_count": 40,
   "metadata": {
    "collapsed": true
   },
   "outputs": [],
   "source": [
    "# Grab the 2.5th and 97.5th percentile (95% CI)\n",
    "\n",
    "bootstrapped_CI = np.percentile(mean_difference, [2.5, 97.5])"
   ]
  },
  {
   "cell_type": "code",
   "execution_count": 41,
   "metadata": {
    "collapsed": false
   },
   "outputs": [
    {
     "name": "stdout",
     "output_type": "stream",
     "text": [
      "Median estimate, from 5000 iterations: 84.071875\n",
      "95% CI estimate, from 5000 iterations: 57.408828 to 111.541094\n"
     ]
    }
   ],
   "source": [
    "# Print results\n",
    "# Contrast results against those provided in the doBootstrap documentation\n",
    "\n",
    "print \"Median estimate, from %d iterations: %f\" % (num_its, bootstrapped_median)\n",
    "print \"95%% CI estimate, from %d iterations: %f to %f\" % (num_its, bootstrapped_CI[0], bootstrapped_CI[1])"
   ]
  },
  {
   "cell_type": "markdown",
   "metadata": {},
   "source": [
    "** **\n",
    "**Appendix: Plese Ignore**\n",
    "** **\n",
    "\n",
    "Items below depict original, and confusing (haha) first attempt to breakdown 'Difference Between Means, Paired'"
   ]
  },
  {
   "cell_type": "code",
   "execution_count": 42,
   "metadata": {
    "collapsed": true
   },
   "outputs": [],
   "source": [
    "# Combine the two arrays together\n",
    "paired_array = np.concatenate((mtcars_disp, mtcars_hp), axis = 0)"
   ]
  },
  {
   "cell_type": "code",
   "execution_count": 43,
   "metadata": {
    "collapsed": false
   },
   "outputs": [
    {
     "name": "stderr",
     "output_type": "stream",
     "text": [
      "/Users/colby.schrauth/anaconda/lib/python2.7/site-packages/ipykernel/__main__.py:8: VisibleDeprecationWarning: using a non-integer number instead of an integer will result in an error in the future\n",
      "/Users/colby.schrauth/anaconda/lib/python2.7/site-packages/ipykernel/__main__.py:9: VisibleDeprecationWarning: using a non-integer number instead of an integer will result in an error in the future\n"
     ]
    }
   ],
   "source": [
    "mean_list_a = []\n",
    "mean_list_b = []\n",
    "\n",
    "for x in range(num_its):\n",
    "    np.random.shuffle(paired_array)\n",
    "    if len(paired_array) % 2 == 0:\n",
    "        num_selection = len(paired_array) / 2\n",
    "        bootstrap_results_a = np.mean(paired_array[0:num_selection])\n",
    "        bootstrap_results_b = np.mean(paired_array[num_selection::])\n",
    "        mean_list_a.append(bootstrap_results_a)\n",
    "        mean_list_b.append(bootstrap_results_b)\n",
    "    else:\n",
    "        top_num = np.ceil((len(paried_array))/2)\n",
    "        btm_num = top_num - 1\n",
    "        bootstrap_results_a = np.mean(paired_array[0:num_selection])\n",
    "        bootstrap_results_b = np.mean(paired_array[num_selection::])\n",
    "        mean_list_a.append(bootstrap_results_a)\n",
    "        mean_list_b.append(bootstrap_results_b)"
   ]
  }
 ],
 "metadata": {
  "anaconda-cloud": {},
  "kernelspec": {
   "display_name": "Python [Root]",
   "language": "python",
   "name": "Python [Root]"
  },
  "language_info": {
   "codemirror_mode": {
    "name": "ipython",
    "version": 2
   },
   "file_extension": ".py",
   "mimetype": "text/x-python",
   "name": "python",
   "nbconvert_exporter": "python",
   "pygments_lexer": "ipython2",
   "version": "2.7.12"
  }
 },
 "nbformat": 4,
 "nbformat_minor": 0
}
